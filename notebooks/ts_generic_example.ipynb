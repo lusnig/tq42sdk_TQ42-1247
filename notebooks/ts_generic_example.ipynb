{
 "cells": [
  {
   "cell_type": "markdown",
   "id": "adee288c",
   "metadata": {},
   "source": [
    "# Welcome to TQ42\n",
    "\n",
    "## Example of training a generic time series Neural Network"
   ]
  },
  {
   "cell_type": "code",
   "execution_count": null,
   "id": "152a449a",
   "metadata": {},
   "outputs": [],
   "source": [
    "#Import Packages\n",
    "from tq42.client import TQ42Client\n",
    "from tq42.organization import list_all as list_all_organizations\n",
    "from tq42.project import list_all as list_all_projects\n",
    "from tq42.experiment import list_all as list_all_experiments\n",
    "from tq42.experiment_run import ExperimentRun\n",
    "from tq42.compute import HardwareProto\n",
    "\n",
    "from tq42.algorithm import (\n",
    "    TrainDataProcessingParametersProto,\n",
    "    OptimProto, \n",
    "    LossFuncProto, \n",
    "    DatasetStorageInfoProto, \n",
    "    ActFuncProto,\n",
    "    GenericMLTrainMetadataProto,\n",
    "    GenericMLTrainParametersProto,\n",
    "    Layer,\n",
    "    PQNLayer,\n",
    "    ClassicalDenseLayer,\n",
    "    MLModelType,\n",
    "    ActivationFunctionLayer,\n",
    "    ActFuncProto,\n",
    "    DropoutLayer,\n",
    "    BatchNormalizationLayer,\n",
    "    TrainModelInfoProto,\n",
    "    MLTrainInputsProto,\n",
    "    AlgorithmProto,\n",
    "    MeasurementModeProto,\n",
    "    MeasureProto,\n",
    "    EntanglingProto,\n",
    "    DiffMethodProto,\n",
    "    QubitTypeProto,\n",
    "    ClassicalLSTMLayer,\n",
    "    QLSTMLayer,\n",
    ")\n",
    "\n",
    "from google.protobuf.json_format import MessageToDict"
   ]
  },
  {
   "cell_type": "markdown",
   "id": "1655a51b",
   "metadata": {},
   "source": [
    "# Create a client. Select an Organization, Project and Experiment"
   ]
  },
  {
   "cell_type": "code",
   "execution_count": null,
   "id": "306b0eaa",
   "metadata": {},
   "outputs": [],
   "source": [
    "# Connect to the cloud service\n",
    "# https://terraquantum.io\n",
    "with TQ42Client() as client:\n",
    "    client.login()"
   ]
  },
  {
   "cell_type": "code",
   "execution_count": null,
   "id": "559dc62f",
   "metadata": {},
   "outputs": [],
   "source": [
    "# list the organizations available to you \n",
    "for organization in list_all_organizations(client=client):\n",
    "    print (organization.id)"
   ]
  },
  {
   "cell_type": "code",
   "execution_count": null,
   "id": "2a3bca07",
   "metadata": {},
   "outputs": [],
   "source": [
    "# Select an organization from the list\n",
    "org_selected = list_all_organizations(client=client)[0]\n",
    "print (org_selected.id)"
   ]
  },
  {
   "cell_type": "code",
   "execution_count": null,
   "id": "da52c590",
   "metadata": {},
   "outputs": [],
   "source": [
    "# List the projects within that organization\n",
    "for project in list_all_projects(client=client, organization_id=org_selected.id):\n",
    "    print (project.id)"
   ]
  },
  {
   "cell_type": "code",
   "execution_count": null,
   "id": "4815b4b9",
   "metadata": {},
   "outputs": [],
   "source": [
    "# Select a project from the list\n",
    "proj_selected = list_all_projects(client=client, organization_id=org_selected.id)[0]\n",
    "print(proj_selected.id)"
   ]
  },
  {
   "cell_type": "code",
   "execution_count": null,
   "id": "4966820d",
   "metadata": {},
   "outputs": [],
   "source": [
    "# List the experiments within that project\n",
    "for experiment in list_all_experiments(client=client, project_id=proj_selected.id):\n",
    "    print (experiment.id)"
   ]
  },
  {
   "cell_type": "code",
   "execution_count": null,
   "id": "c1d8cdce",
   "metadata": {},
   "outputs": [],
   "source": [
    "# Select an experiment from the list\n",
    "exp_selected = list_all_experiments(client=client, project_id=proj_selected.id)[0]\n",
    "print(exp_selected.id)"
   ]
  },
  {
   "cell_type": "markdown",
   "id": "e9440108",
   "metadata": {},
   "source": [
    "# Build and Train the Neural Network"
   ]
  },
  {
   "cell_type": "markdown",
   "id": "9c6595fc",
   "metadata": {},
   "source": [
    "### Classical Example"
   ]
  },
  {
   "cell_type": "code",
   "execution_count": null,
   "id": "a49907e0",
   "metadata": {},
   "outputs": [],
   "source": [
    "# Build the classical neural network\n",
    "\n",
    "classical_train_message=MessageToDict(GenericMLTrainMetadataProto(\n",
    "    parameters=GenericMLTrainParametersProto(\n",
    "        # Choose model type here\n",
    "        model_type=MLModelType.MLP,\n",
    "        # Add and customize and customize layers here\n",
    "        layers=[\n",
    "            Layer(classical_dense_layer=ClassicalDenseLayer(hidden_size=30, bias=True)),\n",
    "            Layer(classical_dense_layer=ClassicalDenseLayer(hidden_size=45, bias=True)),\n",
    "            Layer(classical_dense_layer=ClassicalDenseLayer(hidden_size=60, bias=True)),\n",
    "            Layer(\n",
    "                activation_function_layer=ActivationFunctionLayer(\n",
    "                    function=ActFuncProto.SIGMOID\n",
    "                )\n",
    "            ),\n",
    "            Layer(dropout_layer=DropoutLayer(value=0.5)),\n",
    "            Layer(batch_normalization_layer=BatchNormalizationLayer()),\n",
    "            Layer(\n",
    "                classical_dense_layer=ClassicalDenseLayer(hidden_size=1, bias=False)\n",
    "            ),  # Final layer, bias=False\n",
    "        ],\n",
    "        num_epochs=5,\n",
    "        batch_size=128,\n",
    "        learning_rate=0.05,\n",
    "        k_fold=1,\n",
    "        optim=OptimProto.ADAM,\n",
    "        loss_func=LossFuncProto.MSE,\n",
    "        train_model_info=TrainModelInfoProto(\n",
    "            # Provide a unique name to identify your trained model.\n",
    "            name=\"ENTER_MODEL_NAME_HERE\",\n",
    "            # Add a brief description to help users understand the purpose or functionality of this trained model.\n",
    "            description=\"ADD_DESCRIPTION_HERE\",\n",
    "        ),\n",
    "        data_processing_parameters=TrainDataProcessingParametersProto(\n",
    "            input_columns=[0, 1, 2, 3],\n",
    "            output_columns=[4]\n",
    "        )\n",
    "    ),\n",
    "    inputs=MLTrainInputsProto(\n",
    "        # Provide the specific dataset storage ID of the data you uploaded to TQ42.\n",
    "        data=DatasetStorageInfoProto(storage_id=\"ENTER_DATASET_STORAGE_ID_HERE\")\n",
    "    ),\n",
    "),preserving_proto_field_name=True)"
   ]
  },
  {
   "cell_type": "code",
   "execution_count": null,
   "id": "5df22dc6",
   "metadata": {},
   "outputs": [],
   "source": [
    "# Train the classical neural network\n",
    "\n",
    "run = ExperimentRun.create(\n",
    "    client=client,\n",
    "    algorithm=AlgorithmProto.GENERIC_ML_TRAIN, \n",
    "    experiment_id=exp_selected.id,\n",
    "    compute=HardwareProto.SMALL, \n",
    "    parameters=classical_train_message\n",
    ")\n",
    "\n",
    "print(run.data)"
   ]
  },
  {
   "cell_type": "code",
   "execution_count": null,
   "id": "b0aa46b5",
   "metadata": {},
   "outputs": [],
   "source": [
    "# Show the results\n",
    "\n",
    "result = run.poll()\n",
    "print(result.data)"
   ]
  },
  {
   "cell_type": "code",
   "execution_count": null,
   "id": "36284c02",
   "metadata": {},
   "outputs": [],
   "source": [
    "#Import Packages for inference\n",
    "\n",
    "from tq42.algorithm import (\n",
    "    GENERIC_ML_INFER,\n",
    "    TSEvalInputsProto,\n",
    "    ModelStorageInfoProto,\n",
    "    GenericMLInferMetadataProto,\n",
    "    GenericMLInferParametersProto,\n",
    "    InferDataProcessingParametersProto) "
   ]
  },
  {
   "cell_type": "code",
   "execution_count": null,
   "id": "677e558f",
   "metadata": {},
   "outputs": [],
   "source": [
    "# Set the model for running inference\n",
    "\n",
    "classical_eval_message=MessageToDict(GenericMLInferMetadataProto(\n",
    "    parameters=GenericMLInferParametersProto(\n",
    "        data_processing_parameters=InferDataProcessingParametersProto(\n",
    "            input_columns=[0, 1, 2, 3], timestamp_columns=[]\n",
    "        )\n",
    "    ),\n",
    "    inputs=TSEvalInputsProto(\n",
    "        model=ModelStorageInfoProto(storage_id=\"ENTER_MODEL_STORAGE_ID_HERE\"),\n",
    "        data=DatasetStorageInfoProto(storage_id=\"ENTER_DATASET_STORAGE_ID_HERE\"),\n",
    "    ),\n",
    "),preserving_proto_field_name=True)"
   ]
  },
  {
   "cell_type": "code",
   "execution_count": null,
   "id": "3764d24b",
   "metadata": {},
   "outputs": [],
   "source": [
    "# RUN the classical neural network\n",
    "\n",
    "run = ExperimentRun.create(\n",
    "    client=client,\n",
    "    algorithm=AlgorithmProto.GENERIC_ML_INFER, \n",
    "    experiment_id=exp_selected.id,\n",
    "    compute=HardwareProto.SMALL, \n",
    "    parameters=classical_eval_message\n",
    ")\n",
    "\n",
    "print(run.data)"
   ]
  },
  {
   "cell_type": "code",
   "execution_count": null,
   "id": "75d9a9bc",
   "metadata": {},
   "outputs": [],
   "source": [
    "# Show the results\n",
    "\n",
    "print(ExperimentRun(client=client, id=\"ENTER_EXPERIMENT_RUN_ID_HERE\").data) "
   ]
  },
  {
   "cell_type": "markdown",
   "id": "4afe207f",
   "metadata": {},
   "source": [
    "### Hybrid Quantum Example"
   ]
  },
  {
   "cell_type": "code",
   "execution_count": null,
   "id": "50158d08",
   "metadata": {},
   "outputs": [],
   "source": [
    "# Build the hybrid quantum neural network\n",
    "\n",
    "hybrid_quantum_train_message=MessageToDict(GenericMLTrainMetadataProto(\n",
    "    parameters=GenericMLTrainParametersProto(\n",
    "        # Choose model type here\n",
    "        model_type=MLModelType.MLP,\n",
    "        # Add and customize and customize layers here\n",
    "        layers=[\n",
    "            Layer(classical_dense_layer=ClassicalDenseLayer(hidden_size=4, bias=True)),\n",
    "            Layer(\n",
    "                activation_function_layer=ActivationFunctionLayer(\n",
    "                    function=ActFuncProto.SIGMOID\n",
    "                )\n",
    "            ),\n",
    "            Layer(classical_dense_layer=ClassicalDenseLayer(hidden_size=4, bias=True)),\n",
    "            Layer(\n",
    "                activation_function_layer=ActivationFunctionLayer(\n",
    "                    function=ActFuncProto.SIGMOID\n",
    "                )\n",
    "            ),\n",
    "            Layer(\n",
    "                pqn_layer=PQNLayer(\n",
    "                    num_qubits=4,\n",
    "                    depth=7,\n",
    "                    measurement_mode=MeasurementModeProto.NONE,\n",
    "                    rotation=MeasureProto.X,\n",
    "                    entangling=EntanglingProto.BASIC,\n",
    "                    measure=MeasureProto.Z,\n",
    "                    diff_method=DiffMethodProto.ADJOINT,\n",
    "                    qubit_type=QubitTypeProto.LIGHTNING_QUBIT,\n",
    "                )\n",
    "            ),\n",
    "            Layer(\n",
    "                activation_function_layer=ActivationFunctionLayer(\n",
    "                    function=ActFuncProto.SIGMOID\n",
    "                )\n",
    "            ),\n",
    "            Layer(classical_dense_layer=ClassicalDenseLayer(hidden_size=1, bias=False)),\n",
    "        ],\n",
    "        num_epochs=1,\n",
    "        k_fold=1,\n",
    "        batch_size=128,\n",
    "        learning_rate=0.05,\n",
    "        optim=OptimProto.ADAM,\n",
    "        loss_func=LossFuncProto.MSE,\n",
    "        train_model_info=TrainModelInfoProto(\n",
    "            # Provide a unique name to identify your trained model.\n",
    "            name=\"ENTER_MODEL_NAME_HERE\",\n",
    "            # Add a brief description to help users understand the purpose or functionality of this trained model.\n",
    "            description=\"ADD_DESCRIPTION_HERE\",\n",
    "        ),\n",
    "        data_processing_parameters=TrainDataProcessingParametersProto(\n",
    "            input_columns=[0, 1, 2, 3],\n",
    "            output_columns=[4]\n",
    "        )\n",
    "    ),\n",
    "    inputs=MLTrainInputsProto(\n",
    "        # Provide the specific dataset storage ID of the data you uploaded to TQ42.\n",
    "        data=DatasetStorageInfoProto(storage_id=\"ENTER_DATASET_STORAGE_ID_HERE\")\n",
    "    ),\n",
    "),preserving_proto_field_name=True)"
   ]
  },
  {
   "cell_type": "code",
   "execution_count": null,
   "id": "c4daa814",
   "metadata": {},
   "outputs": [],
   "source": [
    "# Train the hybrid quantum neural network\n",
    "\n",
    "run = ExperimentRun.create(\n",
    "    client=client,\n",
    "    algorithm=AlgorithmProto.GENERIC_ML_TRAIN, \n",
    "    experiment_id=exp_selected.id,\n",
    "    compute=HardwareProto.SMALL, \n",
    "    parameters=hybrid_quantum_train_message\n",
    ")\n",
    "\n",
    "print(run.data)"
   ]
  },
  {
   "cell_type": "code",
   "execution_count": null,
   "id": "56956b43",
   "metadata": {},
   "outputs": [],
   "source": [
    "# Show the results\n",
    "\n",
    "result = run.poll()\n",
    "print(result.data)\n"
   ]
  },
  {
   "cell_type": "code",
   "execution_count": null,
   "id": "f1fb87b5",
   "metadata": {},
   "outputs": [],
   "source": [
    "# Set the model for running inference\n",
    "\n",
    "hybrid_eval_message=MessageToDict(GenericMLInferMetadataProto(\n",
    "    parameters=GenericMLInferParametersProto(\n",
    "        data_processing_parameters=InferDataProcessingParametersProto(\n",
    "            input_columns=[0, 1, 2, 3], timestamp_columns=[]\n",
    "        )\n",
    "    ),\n",
    "    inputs=TSEvalInputsProto(\n",
    "        model=ModelStorageInfoProto(storage_id=\"ENTER_MODEL_STORAGE_ID_HERE\"),\n",
    "        data=DatasetStorageInfoProto(storage_id=\"ENTER_DATASET_STORAGE_ID_HERE\"),\n",
    "    ),\n",
    "),preserving_proto_field_name=True)"
   ]
  },
  {
   "cell_type": "code",
   "execution_count": null,
   "id": "25ddd97f",
   "metadata": {},
   "outputs": [],
   "source": [
    "# RUN the classical neural network\n",
    "\n",
    "run = ExperimentRun.create(\n",
    "    client=client,\n",
    "    algorithm=AlgorithmProto.GENERIC_ML_INFER, \n",
    "    experiment_id=exp_selected.id,\n",
    "    compute=HardwareProto.SMALL, \n",
    "    parameters=hybrid_eval_message\n",
    ")\n",
    "\n",
    "print(run.data)"
   ]
  },
  {
   "cell_type": "code",
   "execution_count": null,
   "id": "677acae4",
   "metadata": {},
   "outputs": [],
   "source": [
    "# Show the results\n",
    "\n",
    "print(ExperimentRun(client=client, id=\"ENTER_EXPERIMENT_RUN_ID_HERE\").data) "
   ]
  }
 ],
 "metadata": {
  "kernelspec": {
   "display_name": "Python 3 (ipykernel)",
   "language": "python",
   "name": "python3"
  },
  "language_info": {
   "codemirror_mode": {
    "name": "ipython",
    "version": 3
   },
   "file_extension": ".py",
   "mimetype": "text/x-python",
   "name": "python",
   "nbconvert_exporter": "python",
   "pygments_lexer": "ipython3",
   "version": "3.9.18"
  },
  "vscode": {
   "interpreter": {
    "hash": "4c2ad97c998e2a01cc90ffc8f9f23ae19426f7e6b99947651fa609e98d400e38"
   }
  }
 },
 "nbformat": 4,
 "nbformat_minor": 5
}
